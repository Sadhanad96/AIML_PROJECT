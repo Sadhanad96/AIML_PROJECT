{
  "nbformat": 4,
  "nbformat_minor": 0,
  "metadata": {
    "colab": {
      "provenance": [],
      "include_colab_link": true
    },
    "kernelspec": {
      "name": "python3",
      "display_name": "Python 3"
    },
    "language_info": {
      "name": "python"
    }
  },
  "cells": [
    {
      "cell_type": "markdown",
      "metadata": {
        "id": "view-in-github",
        "colab_type": "text"
      },
      "source": [
        "<a href=\"https://colab.research.google.com/github/Sadhanad96/AIML_PROJECT/blob/main/8_puzzle_game.ipynb\" target=\"_parent\"><img src=\"https://colab.research.google.com/assets/colab-badge.svg\" alt=\"Open In Colab\"/></a>"
      ]
    },
    {
      "cell_type": "code",
      "execution_count": null,
      "metadata": {
        "id": "xm4tw9QCn1X-",
        "outputId": "31b17680-66ad-46b4-f02e-be7f5f83dcdb",
        "colab": {
          "base_uri": "https://localhost:8080/"
        }
      },
      "outputs": [
        {
          "output_type": "stream",
          "name": "stdout",
          "text": [
            "Starting board:\n",
            "8 1 3\n",
            "5 2 6\n",
            "7   4\n",
            "\n",
            "\n",
            "Enter your move (up, down, left, right):\n",
            "down\n",
            "Invalid move. Try again.\n",
            "Enter your move (up, down, left, right):\n",
            "up\n",
            "8 1 3\n",
            "5   6\n",
            "7 2 4\n",
            "\n",
            "\n",
            "Enter your move (up, down, left, right):\n"
          ]
        }
      ],
      "source": [
        "import random\n",
        "\n",
        "# Define the goal state for reference.\n",
        "goal_state = [\n",
        "    [1, 2, 3],\n",
        "    [4, 5, 6],\n",
        "    [7, 8, 0]\n",
        "]\n",
        "\n",
        "# Print the board.\n",
        "def print_board(board):\n",
        "    for row in board:\n",
        "        print(\" \".join(str(cell) if cell != 0 else \" \" for cell in row))\n",
        "    print(\"\\n\")\n",
        "\n",
        "# Find the position of the empty space (0).\n",
        "def find_empty_space(board):\n",
        "    for i in range(3):\n",
        "        for j in range(3):\n",
        "            if board[i][j] == 0:\n",
        "                return i, j\n",
        "    return None\n",
        "\n",
        "# Check if a move is valid.\n",
        "def is_valid_move(x, y):\n",
        "    return 0 <= x < 3 and 0 <= y < 3\n",
        "\n",
        "# Move a tile into the empty space if the move is valid.\n",
        "def make_move(board, direction):\n",
        "    x, y = find_empty_space(board)\n",
        "    if direction == 'up':\n",
        "        new_x, new_y = x - 1, y\n",
        "    elif direction == 'down':\n",
        "        new_x, new_y = x + 1, y\n",
        "    elif direction == 'left':\n",
        "        new_x, new_y = x, y - 1\n",
        "    elif direction == 'right':\n",
        "        new_x, new_y = x, y + 1\n",
        "    else:\n",
        "        return False\n",
        "\n",
        "    if is_valid_move(new_x, new_y):\n",
        "        # Swap the empty space with the selected tile.\n",
        "        board[x][y], board[new_x][new_y] = board[new_x][new_y], board[x][y]\n",
        "        return True\n",
        "    return False\n",
        "\n",
        "# Check if the puzzle is solved.\n",
        "def is_solved(board):\n",
        "    return board == goal_state\n",
        "\n",
        "# Shuffle the board for starting the game.\n",
        "def shuffle_board(board):\n",
        "    moves = ['up', 'down', 'left', 'right']\n",
        "    for _ in range(100):  # Shuffle with 100 random moves.\n",
        "        make_move(board, random.choice(moves))\n",
        "\n",
        "# Main function to run the 8-puzzle game simulation.\n",
        "def run_8_puzzle():\n",
        "    # Initialize the board.\n",
        "    board = [\n",
        "        [1, 2, 3],\n",
        "        [4, 5, 6],\n",
        "        [7, 8, 0]\n",
        "    ]\n",
        "\n",
        "    # Shuffle the board.\n",
        "    shuffle_board(board)\n",
        "    print(\"Starting board:\")\n",
        "    print_board(board)\n",
        "\n",
        "    while not is_solved(board):\n",
        "        print(\"Enter your move (up, down, left, right):\")\n",
        "        move = input().strip().lower()\n",
        "        if move in ['up', 'down', 'left', 'right']:\n",
        "            if make_move(board, move):\n",
        "                print_board(board)\n",
        "            else:\n",
        "                print(\"Invalid move. Try again.\")\n",
        "        else:\n",
        "            print(\"Invalid input. Please enter 'up', 'down', 'left', or 'right'.\")\n",
        "\n",
        "    print(\"Congratulations! You solved the puzzle.\")\n",
        "\n",
        "# Run the 8-puzzle simulation.\n",
        "run_8_puzzle()"
      ]
    },
    {
      "cell_type": "code",
      "source": [],
      "metadata": {
        "id": "1BQlY9u4tIVq"
      },
      "execution_count": null,
      "outputs": []
    },
    {
      "cell_type": "code",
      "source": [],
      "metadata": {
        "id": "PZc6vNGftI0K"
      },
      "execution_count": null,
      "outputs": []
    }
  ]
}